{
 "cells": [
  {
   "cell_type": "code",
   "execution_count": 1,
   "metadata": {},
   "outputs": [],
   "source": [
    "from bs4 import BeautifulSoup\n",
    "import requests\n",
    "from tqdm import tqdm"
   ]
  },
  {
   "cell_type": "code",
   "execution_count": 9,
   "metadata": {},
   "outputs": [],
   "source": [
    "url = 'https://www.kinonews.ru/top100_p1/'\n",
    "response = requests.get(url)\n",
    "soup = BeautifulSoup(response.content, 'lxml')"
   ]
  },
  {
   "cell_type": "code",
   "execution_count": 3,
   "metadata": {},
   "outputs": [],
   "source": [
    "BASE_URL = 'https://www.kinonews.ru'"
   ]
  },
  {
   "cell_type": "code",
   "execution_count": 4,
   "metadata": {},
   "outputs": [],
   "source": [
    "movies_data = []"
   ]
  },
  {
   "cell_type": "code",
   "execution_count": 166,
   "metadata": {},
   "outputs": [],
   "source": [
    "movie_data = {\n",
    "    'name' : 'string',\n",
    "    'en_name' : 'string',\n",
    "    'year' : 'int',\n",
    "    'countries' : 'list',\n",
    "    'genre' : 'list',\n",
    "    'director' : 'string',\n",
    "    'main_actors' : 'list',\n",
    "    'url' : 'string',\n",
    "    'poster_url' : 'string',\n",
    "    'rating' : 'float',\n",
    "    'lentgh' : 'string'\n",
    "}"
   ]
  },
  {
   "cell_type": "code",
   "execution_count": 167,
   "metadata": {},
   "outputs": [
    {
     "name": "stderr",
     "output_type": "stream",
     "text": [
      "100%|██████████| 20/20 [00:10<00:00,  1.89it/s]\n"
     ]
    }
   ],
   "source": [
    "for i in tqdm(range(1,21)):\n",
    "    url = f'https://www.kinonews.ru/top100_p{i}/'\n",
    "    response = requests.get(url)\n",
    "    soup = BeautifulSoup(response.content, 'lxml')\n",
    "    for movie_div in soup.find_all('div', attrs={'style': 'overflow:auto;'}):\n",
    "        movie_data = {}\n",
    "        movie_data['url'] = BASE_URL + movie_div.find('div', attrs={'class': 'bigtext'}).find('a').get('href')\n",
    "        movie_data['name'] = movie_div.find('div', attrs={'class': 'bigtext'}).find('a').text\n",
    "        movie_data['year'] = int(movie_div.find('div', attrs={'class': 'bigtext'}).text.split()[-1])\n",
    "        try:\n",
    "            movie_data['en_name'] = movie_div.find('div', attrs={'class': 'bigtext'}).find('span').text[1:-1]\n",
    "        except:\n",
    "            movie_data['en_name'] = ''\n",
    "        movie_data['poster_url'] = BASE_URL + movie_div.find('div', attrs={'class':'relative'}).find('div', attrs={'class': 'rating_leftposter'}).find('a').get('href')\n",
    "        movie_data['rating'] = float(movie_div.find('div', attrs={'class':'relative'}).find('div', attrs={'class': 'rating_rightdesc'}).find('div', attrs={'class': 'zhanr_rating'}).\\\n",
    "        find('span').text)\n",
    "        for index, textgray in enumerate(movie_div.find_all('div', attrs={'class': 'textgray'})):\n",
    "            if index == 0:\n",
    "                movie_data['country'] = [x[1:] for x in textgray.text[7:].split(',')]\n",
    "                if ':' in movie_data['country']:\n",
    "                    index +=1\n",
    "            if index == 1:\n",
    "                movie_data['genre'] = [x[1:] for x in textgray.text[5:].split(',')]\n",
    "                if ':' in movie_data['genre']:\n",
    "                    index +=1\n",
    "            if index == 2:\n",
    "                movie_data['director'] = textgray.text[10:]\n",
    "                if ':' in movie_data['director']:\n",
    "                    index +=1\n",
    "            if index == 3:\n",
    "                movie_data['main_actors'] = [x[1:] for x in textgray.text[16:].split(',')]\n",
    "                if ':' in movie_data['main_actors']:\n",
    "                    index +=1\n",
    "            if index == 4:\n",
    "                movie_data['lentgh'] = textgray.text[19:].replace('.', '')\n",
    "        features = ['country', 'genre', 'director', 'main_actors', 'lentgh']\n",
    "        if index < len(features):\n",
    "            for i in range(1,len(features)-index):\n",
    "                movie_data[features[i+index]] = ''\n",
    "                \n",
    "        movies_data.append(movie_data)"
   ]
  },
  {
   "cell_type": "code",
   "execution_count": 168,
   "metadata": {},
   "outputs": [],
   "source": [
    "movies_data = {k: [dic[k] for dic in movies_data] for k in movies_data[0]}"
   ]
  },
  {
   "cell_type": "code",
   "execution_count": 35,
   "metadata": {},
   "outputs": [],
   "source": [
    "import pandas as pd"
   ]
  },
  {
   "cell_type": "code",
   "execution_count": 172,
   "metadata": {},
   "outputs": [],
   "source": [
    "df = pd.DataFrame.from_dict(movies_data)\n",
    "df.to_csv('kinonews.csv')"
   ]
  },
  {
   "cell_type": "code",
   "execution_count": 182,
   "metadata": {},
   "outputs": [],
   "source": [
    "movies_data = []"
   ]
  },
  {
   "cell_type": "code",
   "execution_count": 188,
   "metadata": {},
   "outputs": [],
   "source": [
    "def parse(url):\n",
    "    response = requests.get(url)\n",
    "    soup = BeautifulSoup(response.content, 'lxml')\n",
    "    for movie_div in soup.find_all('div', attrs={'style': 'overflow:auto;'}):\n",
    "        movie_data = {}\n",
    "        movie_data['url'] = BASE_URL + movie_div.find('div', attrs={'class': 'bigtext'}).find('a').get('href')\n",
    "        movie_data['name'] = movie_div.find('div', attrs={'class': 'bigtext'}).find('a').text\n",
    "        movie_data['year'] = int(movie_div.find('div', attrs={'class': 'bigtext'}).text.split()[-1])\n",
    "        try:\n",
    "            movie_data['en_name'] = movie_div.find('div', attrs={'class': 'bigtext'}).find('span').text[1:-1]\n",
    "        except:\n",
    "            movie_data['en_name'] = ''\n",
    "        movie_data['poster_url'] = BASE_URL + movie_div.find('div', attrs={'class':'relative'}).find('div', attrs={'class': 'rating_leftposter'}).find('a').get('href')\n",
    "        movie_data['rating'] = float(movie_div.find('div', attrs={'class':'relative'}).find('div', attrs={'class': 'rating_rightdesc'}).find('div', attrs={'class': 'zhanr_rating'}).\\\n",
    "        find('span').text)\n",
    "        for index, textgray in enumerate(movie_div.find_all('div', attrs={'class': 'textgray'})):\n",
    "            if index == 0:\n",
    "                movie_data['country'] = [x[1:] for x in textgray.text[7:].split(',')]\n",
    "                if ':' in movie_data['country']:\n",
    "                    index +=1\n",
    "            if index == 1:\n",
    "                movie_data['genre'] = [x[1:] for x in textgray.text[5:].split(',')]\n",
    "                if ':' in movie_data['genre']:\n",
    "                    index +=1\n",
    "            if index == 2:\n",
    "                movie_data['director'] = textgray.text[10:]\n",
    "                if ':' in movie_data['director']:\n",
    "                    index +=1\n",
    "            if index == 3:\n",
    "                movie_data['main_actors'] = [x[1:] for x in textgray.text[16:].split(',')]\n",
    "                if ':' in movie_data['main_actors']:\n",
    "                    index +=1\n",
    "            if index == 4:\n",
    "                movie_data['lentgh'] = textgray.text[19:].replace('.', '')\n",
    "        features = ['country', 'genre', 'director', 'main_actors', 'lentgh']\n",
    "        if index < len(features):\n",
    "            for i in range(1,len(features)-index):\n",
    "                movie_data[features[i+index]] = ''\n",
    "\n",
    "        movies_data.append(movie_data)"
   ]
  },
  {
   "cell_type": "code",
   "execution_count": 184,
   "metadata": {},
   "outputs": [],
   "source": [
    "movies_data = {k: [dic[k] for dic in movies_data] for k in movies_data[0]}"
   ]
  },
  {
   "cell_type": "code",
   "execution_count": 185,
   "metadata": {},
   "outputs": [],
   "source": [
    "df = pd.DataFrame.from_dict(movies_data)"
   ]
  },
  {
   "cell_type": "code",
   "execution_count": 187,
   "metadata": {},
   "outputs": [],
   "source": [
    "df.to_csv('kinonews_top100year.csv')"
   ]
  },
  {
   "cell_type": "markdown",
   "metadata": {},
   "source": [
    "# Кассовые фильмы "
   ]
  },
  {
   "cell_type": "code",
   "execution_count": 38,
   "metadata": {},
   "outputs": [],
   "source": [
    "movies_data = []"
   ]
  },
  {
   "cell_type": "code",
   "execution_count": 39,
   "metadata": {},
   "outputs": [
    {
     "name": "stderr",
     "output_type": "stream",
     "text": [
      "100%|██████████| 49/49 [00:43<00:00,  1.13it/s]\n"
     ]
    }
   ],
   "source": [
    "for i in tqdm(range(1,50)):\n",
    "    url = f'https://www.kinonews.ru/kassa_top100_p{i}/'\n",
    "    response = requests.get(url)\n",
    "    soup = BeautifulSoup(response.content, 'lxml')\n",
    "    for movie_div in soup.find_all('div', attrs={'style': 'overflow:auto;'}):\n",
    "        movie_data = {}\n",
    "        movie_data['url'] = BASE_URL + movie_div.find('div', attrs={'class': 'bigtext'}).find('a').get('href')\n",
    "        movie_data['name'] = movie_div.find('div', attrs={'class': 'bigtext'}).find('a').text\n",
    "        movie_data['year'] = int(movie_div.find('div', attrs={'class': 'bigtext'}).text.split()[-1])\n",
    "        try:\n",
    "            movie_data['en_name'] = movie_div.find('div', attrs={'class': 'bigtext'}).find('span').text[1:-1]\n",
    "        except:\n",
    "            movie_data['en_name'] = ''\n",
    "        try:\n",
    "            movie_data['poster_url'] = BASE_URL + movie_div.find('div', attrs={'class':'relative'}).find('div', attrs={'class': 'rating_leftposter'}).find('a').get('href')\n",
    "        except:\n",
    "            movie_data['poster_url'] = ''\n",
    "        try:\n",
    "            movie_data['rating'] = float(movie_div.find('div', attrs={'class':'relative'}).find('div', attrs={'class': 'rating_rightdesc'}).find('div', attrs={'class': 'zhanr_rating'}).find('span').text)\n",
    "        except:\n",
    "            movie_data['rating'] = 0\n",
    "        \n",
    "        budget_div = movie_div.find('div', attrs={'class':'relative'}).find('div', attrs={'class': 'rating_rightdesc'}).find('div', attrs={'style': 'padding-bottom:10px;'})\n",
    "        movie_data['world_fees'] = budget_div.find_all('span', attrs={'class': 'rating_summa'})[0].text\n",
    "        try:\n",
    "            movie_data['budget'] = budget_div.find_all('span', attrs={'class': 'rating_summa'})[1].text\n",
    "        except:\n",
    "            movie_data['budget'] = '0'\n",
    "        \n",
    "        for index, textgray in enumerate(movie_div.find_all('div', attrs={'class': 'textgray'})):\n",
    "            if index == 0:\n",
    "                movie_data['country'] = [x[1:] for x in textgray.text[7:].split(',')]\n",
    "                if ':' in movie_data['country']:\n",
    "                    index +=1\n",
    "            if index == 1:\n",
    "                movie_data['genre'] = [x[1:] for x in textgray.text[5:].split(',')]\n",
    "                if ':' in movie_data['genre']:\n",
    "                    index +=1\n",
    "            if index == 2:\n",
    "                movie_data['director'] = textgray.text[10:]\n",
    "                if ':' in movie_data['director']:\n",
    "                    index +=1\n",
    "            if index == 3:\n",
    "                movie_data['main_actors'] = [x[1:] for x in textgray.text[16:].split(',')]\n",
    "                if ':' in movie_data['main_actors']:\n",
    "                    index +=1\n",
    "            if index == 4:\n",
    "                movie_data['lentgh'] = textgray.text[19:].replace('.', '')\n",
    "        features = ['country', 'genre', 'director', 'main_actors', 'lentgh']\n",
    "        if index < len(features):\n",
    "            for i in range(1,len(features)-index):\n",
    "                movie_data[features[i+index]] = ''\n",
    "        movies_data.append(movie_data)"
   ]
  },
  {
   "cell_type": "code",
   "execution_count": 40,
   "metadata": {},
   "outputs": [],
   "source": [
    "movies_data = {k: [dic[k] for dic in movies_data] for k in movies_data[0]}"
   ]
  },
  {
   "cell_type": "code",
   "execution_count": 42,
   "metadata": {},
   "outputs": [
    {
     "data": {
      "text/plain": [
       "13"
      ]
     },
     "execution_count": 42,
     "metadata": {},
     "output_type": "execute_result"
    }
   ],
   "source": [
    "len(movies_data)"
   ]
  },
  {
   "cell_type": "code",
   "execution_count": 43,
   "metadata": {},
   "outputs": [],
   "source": [
    "df = pd.DataFrame.from_dict(movies_data)"
   ]
  },
  {
   "cell_type": "code",
   "execution_count": 44,
   "metadata": {},
   "outputs": [],
   "source": [
    "df.to_csv('kinonews_kassa.csv')"
   ]
  },
  {
   "cell_type": "code",
   "execution_count": null,
   "metadata": {},
   "outputs": [],
   "source": []
  },
  {
   "cell_type": "markdown",
   "metadata": {},
   "source": [
    "# Инфа о фильмах "
   ]
  },
  {
   "cell_type": "code",
   "execution_count": 2,
   "metadata": {},
   "outputs": [],
   "source": [
    "import pandas as pd"
   ]
  },
  {
   "cell_type": "code",
   "execution_count": 11,
   "metadata": {},
   "outputs": [],
   "source": [
    "data = pd.read_csv('kinonews_kassa.csv', index_col=0)"
   ]
  },
  {
   "cell_type": "code",
   "execution_count": 13,
   "metadata": {},
   "outputs": [
    {
     "data": {
      "text/plain": [
       "0            https://www.kinonews.ru/movie_1031/avatar\n",
       "1    https://www.kinonews.ru/movie_207321/avengers-...\n",
       "2           https://www.kinonews.ru/movie_1025/titanic\n",
       "3    https://www.kinonews.ru/movie_134104/star-wars...\n",
       "4    https://www.kinonews.ru/movie_207320/avengers-...\n",
       "Name: url, dtype: object"
      ]
     },
     "execution_count": 13,
     "metadata": {},
     "output_type": "execute_result"
    }
   ],
   "source": [
    "data.head()['url']"
   ]
  },
  {
   "cell_type": "code",
   "execution_count": 16,
   "metadata": {},
   "outputs": [],
   "source": [
    "def get_movie_info(url):\n",
    "    movie_info = {}\n",
    "    movie_info['url'] = url\n",
    "    response = requests.get(url)\n",
    "    soup = BeautifulSoup(response.content, 'lxml')\n",
    "    data_div = soup.find('div', attrs={'class': 'game_main'})\n",
    "    movie_info['description'] = data_div.find('div', attrs={'class': 'textart15'}).text\n",
    "    return movie_info"
   ]
  },
  {
   "cell_type": "code",
   "execution_count": 23,
   "metadata": {},
   "outputs": [
    {
     "name": "stderr",
     "output_type": "stream",
     "text": [
      "100%|██████████| 4842/4842 [26:50<00:00,  3.01it/s]  \n"
     ]
    }
   ],
   "source": [
    "description = []\n",
    "for url in tqdm(data.url):\n",
    "    description.append(get_movie_info(url))\n",
    "    \n",
    "description_dict = {k: [dic[k] for dic in description] for k in description[0]}\n",
    "df = pd.DataFrame(description_dict)\n",
    "df.to_csv('description_kassa_kinonews.csv')"
   ]
  },
  {
   "cell_type": "code",
   "execution_count": 26,
   "metadata": {},
   "outputs": [
    {
     "data": {
      "text/html": [
       "<div>\n",
       "<style scoped>\n",
       "    .dataframe tbody tr th:only-of-type {\n",
       "        vertical-align: middle;\n",
       "    }\n",
       "\n",
       "    .dataframe tbody tr th {\n",
       "        vertical-align: top;\n",
       "    }\n",
       "\n",
       "    .dataframe thead th {\n",
       "        text-align: right;\n",
       "    }\n",
       "</style>\n",
       "<table border=\"1\" class=\"dataframe\">\n",
       "  <thead>\n",
       "    <tr style=\"text-align: right;\">\n",
       "      <th></th>\n",
       "      <th>url</th>\n",
       "      <th>description</th>\n",
       "    </tr>\n",
       "  </thead>\n",
       "  <tbody>\n",
       "    <tr>\n",
       "      <th>0</th>\n",
       "      <td>https://www.kinonews.ru/movie_1031/avatar</td>\n",
       "      <td>Бывший десантник Джейк Салли получает предложе...</td>\n",
       "    </tr>\n",
       "    <tr>\n",
       "      <th>1</th>\n",
       "      <td>https://www.kinonews.ru/movie_207321/avengers-...</td>\n",
       "      <td>Танос завладел всеми Камнями бесконечности. По...</td>\n",
       "    </tr>\n",
       "    <tr>\n",
       "      <th>2</th>\n",
       "      <td>https://www.kinonews.ru/movie_1025/titanic</td>\n",
       "      <td>Бедный художник Джек, случайно попав на борт \"...</td>\n",
       "    </tr>\n",
       "    <tr>\n",
       "      <th>3</th>\n",
       "      <td>https://www.kinonews.ru/movie_134104/star-wars...</td>\n",
       "      <td>Седьмая часть культовой фантастической саги Дж...</td>\n",
       "    </tr>\n",
       "    <tr>\n",
       "      <th>4</th>\n",
       "      <td>https://www.kinonews.ru/movie_207320/avengers-...</td>\n",
       "      <td>Мстители и Стражи Галактики объединяются, чтоб...</td>\n",
       "    </tr>\n",
       "    <tr>\n",
       "      <th>...</th>\n",
       "      <td>...</td>\n",
       "      <td>...</td>\n",
       "    </tr>\n",
       "    <tr>\n",
       "      <th>4837</th>\n",
       "      <td>https://www.kinonews.ru/movie_8882/the-night-i...</td>\n",
       "      <td>Алексей работает в тихом детском интернате. Вм...</td>\n",
       "    </tr>\n",
       "    <tr>\n",
       "      <th>4838</th>\n",
       "      <td>https://www.kinonews.ru/movie_5171/biker-boyz</td>\n",
       "      <td>Сын лидера легендарной банды городских байкер...</td>\n",
       "    </tr>\n",
       "    <tr>\n",
       "      <th>4839</th>\n",
       "      <td>https://www.kinonews.ru/movie_67088/the-invisi...</td>\n",
       "      <td>Фрэнк Гриффин, брат покойного человека-невидим...</td>\n",
       "    </tr>\n",
       "    <tr>\n",
       "      <th>4840</th>\n",
       "      <td>https://www.kinonews.ru/movie_82639/sally</td>\n",
       "      <td>Главной страстью Салли, выросшей в приюте, все...</td>\n",
       "    </tr>\n",
       "    <tr>\n",
       "      <th>4841</th>\n",
       "      <td>https://www.kinonews.ru/movie_85312/things-you...</td>\n",
       "      <td>В центре сюжета шесть красивых, интеллигентных...</td>\n",
       "    </tr>\n",
       "  </tbody>\n",
       "</table>\n",
       "<p>4842 rows × 2 columns</p>\n",
       "</div>"
      ],
      "text/plain": [
       "                                                    url  \\\n",
       "0             https://www.kinonews.ru/movie_1031/avatar   \n",
       "1     https://www.kinonews.ru/movie_207321/avengers-...   \n",
       "2            https://www.kinonews.ru/movie_1025/titanic   \n",
       "3     https://www.kinonews.ru/movie_134104/star-wars...   \n",
       "4     https://www.kinonews.ru/movie_207320/avengers-...   \n",
       "...                                                 ...   \n",
       "4837  https://www.kinonews.ru/movie_8882/the-night-i...   \n",
       "4838      https://www.kinonews.ru/movie_5171/biker-boyz   \n",
       "4839  https://www.kinonews.ru/movie_67088/the-invisi...   \n",
       "4840          https://www.kinonews.ru/movie_82639/sally   \n",
       "4841  https://www.kinonews.ru/movie_85312/things-you...   \n",
       "\n",
       "                                            description  \n",
       "0     Бывший десантник Джейк Салли получает предложе...  \n",
       "1     Танос завладел всеми Камнями бесконечности. По...  \n",
       "2     Бедный художник Джек, случайно попав на борт \"...  \n",
       "3     Седьмая часть культовой фантастической саги Дж...  \n",
       "4     Мстители и Стражи Галактики объединяются, чтоб...  \n",
       "...                                                 ...  \n",
       "4837  Алексей работает в тихом детском интернате. Вм...  \n",
       "4838   Сын лидера легендарной банды городских байкер...  \n",
       "4839  Фрэнк Гриффин, брат покойного человека-невидим...  \n",
       "4840  Главной страстью Салли, выросшей в приюте, все...  \n",
       "4841  В центре сюжета шесть красивых, интеллигентных...  \n",
       "\n",
       "[4842 rows x 2 columns]"
      ]
     },
     "execution_count": 26,
     "metadata": {},
     "output_type": "execute_result"
    }
   ],
   "source": [
    "pd.merge(data, df, )"
   ]
  }
 ],
 "metadata": {
  "kernelspec": {
   "display_name": "Python 3",
   "language": "python",
   "name": "python3"
  },
  "language_info": {
   "codemirror_mode": {
    "name": "ipython",
    "version": 3
   },
   "file_extension": ".py",
   "mimetype": "text/x-python",
   "name": "python",
   "nbconvert_exporter": "python",
   "pygments_lexer": "ipython3",
   "version": "3.8.3"
  }
 },
 "nbformat": 4,
 "nbformat_minor": 4
}
